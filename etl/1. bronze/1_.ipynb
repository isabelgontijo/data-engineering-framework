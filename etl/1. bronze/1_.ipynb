{
 "cells": [
  {
   "cell_type": "markdown",
   "metadata": {
    "application/vnd.databricks.v1+cell": {
     "cellMetadata": {},
     "inputWidgets": {},
     "nuid": "1bc968db-5b3a-4b21-ac24-39f8d3e95748",
     "showTitle": false,
     "tableResultSettingsMap": {},
     "title": ""
    }
   },
   "source": [
    "# 🔰 Bronze Layer Template\n",
    "\n",
    "This notebook is a template for ingesting raw data into the Bronze layer of the medallion architecture.\n",
    "It includes:\n",
    "- Reading from landing/ingestion path\n",
    "- Adding ingestion metadata\n",
    "- Writing to Delta table"
   ]
  },
  {
   "cell_type": "code",
   "execution_count": 0,
   "metadata": {
    "application/vnd.databricks.v1+cell": {
     "cellMetadata": {},
     "inputWidgets": {},
     "nuid": "d4e1ef6f-d9ae-47b3-bd06-70a63b7aeb90",
     "showTitle": false,
     "tableResultSettingsMap": {},
     "title": ""
    }
   },
   "outputs": [],
   "source": [
    "\n",
    "\n",
    "# COMMAND ----------\n",
    "from pyspark.sql import functions as F\n",
    "from src.notebook_context import get_notebook_context_info\n",
    "from src.config import ENVIRONMENTS\n",
    "\n",
    "# COMMAND ----------\n",
    "# 🧠 Load environment config from context\n",
    "ctx = get_notebook_context_info()\n",
    "env = ctx[\"env_folder\"]\n",
    "config = ENVIRONMENTS[env]\n",
    "bronze_path = f\"abfss://bronze@{config['storage']}.dfs.core.windows.net/\"\n",
    "\n",
    "# COMMAND ----------\n",
    "# 📥 Read from ingestion path\n",
    "input_path = f\"/mnt/landing/sample_dataset.json\"  # Example path (replace as needed)\n",
    "df_raw = spark.read.option(\"multiline\", \"true\").json(input_path)\n",
    "\n",
    "# COMMAND ----------\n",
    "# 🧾 Add metadata columns\n",
    "df_bronze = (\n",
    "    df_raw\n",
    "    .withColumn(\"_ingestion_timestamp\", F.current_timestamp())\n",
    "    .withColumn(\"_source_file\", F.input_file_name())\n",
    ")\n",
    "\n",
    "# COMMAND ----------\n",
    "# 💾 Write to Bronze Delta table\n",
    "output_table = \"bronze.sample_dataset\"\n",
    "(\n",
    "    df_bronze.write\n",
    "    .mode(\"overwrite\")  # Change to 'append' in production\n",
    "    .format(\"delta\")\n",
    "    .saveAsTable(output_table)\n",
    ")\n",
    "\n",
    "print(f\"✅ Bronze table written: {output_table}\")\n"
   ]
  }
 ],
 "metadata": {
  "application/vnd.databricks.v1+notebook": {
   "computePreferences": null,
   "dashboards": [],
   "environmentMetadata": {
    "base_environment": "",
    "environment_version": "2"
   },
   "inputWidgetPreferences": null,
   "language": "python",
   "notebookMetadata": {
    "pythonIndentUnit": 4
   },
   "notebookName": "1_",
   "widgets": {}
  },
  "language_info": {
   "name": "python"
  }
 },
 "nbformat": 4,
 "nbformat_minor": 0
}
